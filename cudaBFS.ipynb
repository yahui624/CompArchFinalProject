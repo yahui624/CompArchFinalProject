{
  "nbformat": 4,
  "nbformat_minor": 0,
  "metadata": {
    "colab": {
      "provenance": [],
      "authorship_tag": "ABX9TyNFudlabc0qtKZux5siRldT",
      "include_colab_link": true
    },
    "kernelspec": {
      "name": "python3",
      "display_name": "Python 3"
    },
    "language_info": {
      "name": "python"
    },
    "accelerator": "GPU",
    "gpuClass": "standard"
  },
  "cells": [
    {
      "cell_type": "markdown",
      "metadata": {
        "id": "view-in-github",
        "colab_type": "text"
      },
      "source": [
        "<a href=\"https://colab.research.google.com/github/yahui624/CompArchFinalProject/blob/main/cudaBFS.ipynb\" target=\"_parent\"><img src=\"https://colab.research.google.com/assets/colab-badge.svg\" alt=\"Open In Colab\"/></a>"
      ]
    },
    {
      "cell_type": "code",
      "execution_count": 2,
      "metadata": {
        "colab": {
          "base_uri": "https://localhost:8080/"
        },
        "id": "ZN2zJqHvBlAx",
        "outputId": "8f417624-5f60-4d95-d86b-709ea8643592"
      },
      "outputs": [
        {
          "output_type": "stream",
          "name": "stdout",
          "text": [
            "Cloning into 'CompArchFinalProject'...\n",
            "remote: Enumerating objects: 177, done.\u001b[K\n",
            "remote: Counting objects: 100% (177/177), done.\u001b[K\n",
            "remote: Compressing objects: 100% (98/98), done.\u001b[K\n",
            "remote: Total 177 (delta 73), reused 159 (delta 66), pack-reused 0\u001b[K\n",
            "Receiving objects: 100% (177/177), 7.03 MiB | 19.99 MiB/s, done.\n",
            "Resolving deltas: 100% (73/73), done.\n"
          ]
        }
      ],
      "source": [
        "!git clone https://github.com/yahui624/CompArchFinalProject.git"
      ]
    },
    {
      "cell_type": "code",
      "source": [
        "%cd CompArchFinalProject/"
      ],
      "metadata": {
        "colab": {
          "base_uri": "https://localhost:8080/"
        },
        "id": "ySFMEQHwBrI4",
        "outputId": "741eb93d-b2fd-4c70-8cd2-b5249020ee7e"
      },
      "execution_count": 3,
      "outputs": [
        {
          "output_type": "stream",
          "name": "stdout",
          "text": [
            "/content/CompArchFinalProject\n"
          ]
        }
      ]
    },
    {
      "cell_type": "code",
      "source": [
        "!./compile.sh"
      ],
      "metadata": {
        "colab": {
          "base_uri": "https://localhost:8080/"
        },
        "id": "G4doPBOFBv5e",
        "outputId": "7498e8af-1253-474c-834e-24ba36ef6148"
      },
      "execution_count": 4,
      "outputs": [
        {
          "output_type": "stream",
          "name": "stdout",
          "text": [
            "Compiled the program and created executable named bfs_main.out.\n"
          ]
        }
      ]
    },
    {
      "cell_type": "code",
      "source": [
        "!./bfs_main.out < data/4elt.graph"
      ],
      "metadata": {
        "colab": {
          "base_uri": "https://localhost:8080/"
        },
        "id": "hhJ-MYGSB7YM",
        "outputId": "255e4ced-1f6f-49ce-9035-f39a908d3526"
      },
      "execution_count": 5,
      "outputs": [
        {
          "output_type": "stream",
          "name": "stdout",
          "text": [
            "Started reading graph\n",
            "Finished reading graph\n",
            "Elapsed time for CPU implementation : 2 ms.\n",
            "Elapsed time for naive linear GPU implementation (without copying graph) : 0 ms.\n",
            "Elapsed time for naive linear GPU implementation (with graph copying) : 980 ms.\n",
            "CHECKED SUCCESSFULY! Number of visited vertices: 15606, depth: 18 \n",
            "Elapsed time for quadratic GPU implementation (without copying graph) : 0 ms.\n",
            "Elapsed time for quadratic GPU implementation (with graph copying) : 0 ms.\n",
            "CHECKED SUCCESSFULY! Number of visited vertices: 15606, depth: 18 \n"
          ]
        }
      ]
    },
    {
      "cell_type": "markdown",
      "source": [],
      "metadata": {
        "id": "JPKnf_WxC0Hb"
      }
    },
    {
      "cell_type": "code",
      "source": [
        "!./bfs_main.out < data/citationCiteseer.graph"
      ],
      "metadata": {
        "colab": {
          "base_uri": "https://localhost:8080/"
        },
        "id": "gNYzaUgACDro",
        "outputId": "67ea46b1-46de-42f9-a71e-ca356e28a010"
      },
      "execution_count": 6,
      "outputs": [
        {
          "output_type": "stream",
          "name": "stdout",
          "text": [
            "Started reading graph\n",
            "Finished reading graph\n",
            "Elapsed time for CPU implementation : 76 ms.\n",
            "Elapsed time for naive linear GPU implementation (without copying graph) : 5 ms.\n",
            "Elapsed time for naive linear GPU implementation (with graph copying) : 787 ms.\n",
            "CHECKED SUCCESSFULY! Number of visited vertices: 268494, depth: 22 \n",
            "Elapsed time for quadratic GPU implementation (without copying graph) : 5 ms.\n",
            "Elapsed time for quadratic GPU implementation (with graph copying) : 8 ms.\n",
            "CHECKED SUCCESSFULY! Number of visited vertices: 268494, depth: 22 \n"
          ]
        }
      ]
    },
    {
      "cell_type": "code",
      "source": [],
      "metadata": {
        "id": "ws3quHetDGoX"
      },
      "execution_count": null,
      "outputs": []
    }
  ]
}