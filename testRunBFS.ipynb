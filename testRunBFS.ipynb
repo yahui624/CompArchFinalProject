{
  "nbformat": 4,
  "nbformat_minor": 0,
  "metadata": {
    "colab": {
      "provenance": [],
      "authorship_tag": "ABX9TyMeDM7OYnBj0rhEUKIlmQ18",
      "include_colab_link": true
    },
    "kernelspec": {
      "name": "python3",
      "display_name": "Python 3"
    },
    "language_info": {
      "name": "python"
    },
    "accelerator": "GPU",
    "gpuClass": "standard"
  },
  "cells": [
    {
      "cell_type": "markdown",
      "metadata": {
        "id": "view-in-github",
        "colab_type": "text"
      },
      "source": [
        "<a href=\"https://colab.research.google.com/github/yahui624/CompArchFinalProject/blob/main/testRunBFS.ipynb\" target=\"_parent\"><img src=\"https://colab.research.google.com/assets/colab-badge.svg\" alt=\"Open In Colab\"/></a>"
      ]
    },
    {
      "cell_type": "markdown",
      "source": [
        "Test BFS setup [code reference](https://github.com/kaletap/bfs-cuda-gpu)"
      ],
      "metadata": {
        "id": "a_V7wX90BGrs"
      }
    },
    {
      "cell_type": "code",
      "execution_count": 2,
      "metadata": {
        "colab": {
          "base_uri": "https://localhost:8080/"
        },
        "id": "H_urLFnP_g5F",
        "outputId": "002b0981-bd92-44af-e5eb-d25fc0bf9fa8"
      },
      "outputs": [
        {
          "output_type": "stream",
          "name": "stdout",
          "text": [
            "Cloning into 'bfs-cuda-gpu'...\n",
            "remote: Enumerating objects: 158, done.\u001b[K\n",
            "remote: Counting objects: 100% (158/158), done.\u001b[K\n",
            "remote: Compressing objects: 100% (105/105), done.\u001b[K\n",
            "remote: Total 158 (delta 56), reused 146 (delta 44), pack-reused 0\u001b[K\n",
            "Receiving objects: 100% (158/158), 7.01 MiB | 7.83 MiB/s, done.\n",
            "Resolving deltas: 100% (56/56), done.\n"
          ]
        }
      ],
      "source": [
        "!git clone https://github.com/kaletap/bfs-cuda-gpu.git"
      ]
    },
    {
      "cell_type": "code",
      "source": [
        "%cd bfs-cuda-gpu"
      ],
      "metadata": {
        "colab": {
          "base_uri": "https://localhost:8080/"
        },
        "id": "4xJUCABs_zCX",
        "outputId": "bc933778-8d59-40f8-dc72-93dde9c5b690"
      },
      "execution_count": 11,
      "outputs": [
        {
          "output_type": "stream",
          "name": "stdout",
          "text": [
            "/content/bfs-cuda-gpu\n"
          ]
        }
      ]
    },
    {
      "cell_type": "code",
      "source": [
        "!./compile.sh"
      ],
      "metadata": {
        "colab": {
          "base_uri": "https://localhost:8080/"
        },
        "id": "zKHODOF5_5ca",
        "outputId": "401f793b-f738-4c7c-b301-c6cbd34bab56"
      },
      "execution_count": 17,
      "outputs": [
        {
          "output_type": "stream",
          "name": "stdout",
          "text": [
            "Compiled the program and created executable named bfs_main.out.\n"
          ]
        }
      ]
    },
    {
      "cell_type": "code",
      "source": [
        "!./bfs_main.out < data/4elt.graph"
      ],
      "metadata": {
        "colab": {
          "base_uri": "https://localhost:8080/"
        },
        "id": "2gWRPS7l_6Z2",
        "outputId": "387704f8-84c4-487e-ecbe-4f3144933c93"
      },
      "execution_count": 19,
      "outputs": [
        {
          "output_type": "stream",
          "name": "stdout",
          "text": [
            "Started reading graph\n",
            "Finished reading graph\n",
            "Elapsed time for CPU implementation : 2 ms.\n",
            "Elapsed time for naive linear GPU implementation (without copying graph) : 0 ms.\n",
            "Elapsed time for naive linear GPU implementation (with graph copying) : 928 ms.\n",
            "CHECKED SUCCESSFULY! Number of visited vertices: 15606, depth: 18 \n",
            "Elapsed time for quadratic GPU implementation (without copying graph) : 0 ms.\n",
            "Elapsed time for quadratic GPU implementation (with graph copying) : 0 ms.\n",
            "CHECKED SUCCESSFULY! Number of visited vertices: 15606, depth: 18 \n"
          ]
        }
      ]
    },
    {
      "cell_type": "code",
      "source": [
        "!./bfs_main.out < data/citationCiteseer.graph"
      ],
      "metadata": {
        "colab": {
          "base_uri": "https://localhost:8080/"
        },
        "id": "mp-2JYpIAAia",
        "outputId": "3dbfd3a3-34ec-4eb3-dd0a-6fee886fbe16"
      },
      "execution_count": 20,
      "outputs": [
        {
          "output_type": "stream",
          "name": "stdout",
          "text": [
            "Started reading graph\n",
            "Finished reading graph\n",
            "Elapsed time for CPU implementation : 101 ms.\n",
            "Elapsed time for naive linear GPU implementation (without copying graph) : 5 ms.\n",
            "Elapsed time for naive linear GPU implementation (with graph copying) : 705 ms.\n",
            "CHECKED SUCCESSFULY! Number of visited vertices: 268494, depth: 22 \n",
            "Elapsed time for quadratic GPU implementation (without copying graph) : 5 ms.\n",
            "Elapsed time for quadratic GPU implementation (with graph copying) : 9 ms.\n",
            "CHECKED SUCCESSFULY! Number of visited vertices: 268494, depth: 22 \n"
          ]
        }
      ]
    },
    {
      "cell_type": "markdown",
      "source": [],
      "metadata": {
        "id": "6GxKm7ACBEkQ"
      }
    }
  ]
}