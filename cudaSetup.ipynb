{
  "nbformat": 4,
  "nbformat_minor": 0,
  "metadata": {
    "colab": {
      "provenance": [],
      "authorship_tag": "ABX9TyOHBILqXXMdWseOMuwPQ9ho",
      "include_colab_link": true
    },
    "kernelspec": {
      "name": "python3",
      "display_name": "Python 3"
    },
    "language_info": {
      "name": "python"
    },
    "accelerator": "GPU",
    "gpuClass": "standard"
  },
  "cells": [
    {
      "cell_type": "markdown",
      "metadata": {
        "id": "view-in-github",
        "colab_type": "text"
      },
      "source": [
        "<a href=\"https://colab.research.google.com/github/yahui624/CompArchFinalProject/blob/main/cudaSetup.ipynb\" target=\"_parent\"><img src=\"https://colab.research.google.com/assets/colab-badge.svg\" alt=\"Open In Colab\"/></a>"
      ]
    },
    {
      "cell_type": "markdown",
      "source": [
        "Test CUDA Google Collab enviorment setup following [cuda-lab\n",
        "](https://github.com/alessandrobessi/cuda-lab)"
      ],
      "metadata": {
        "id": "SGCN4JVk7XRJ"
      }
    },
    {
      "cell_type": "code",
      "execution_count": 7,
      "metadata": {
        "colab": {
          "base_uri": "https://localhost:8080/"
        },
        "id": "feEPxMOE4MMf",
        "outputId": "e13fade0-c0f6-448b-adab-d916828ce90d"
      },
      "outputs": [
        {
          "output_type": "stream",
          "name": "stdout",
          "text": [
            "fatal: destination path 'cuda-lab' already exists and is not an empty directory.\n",
            "Looking in indexes: https://pypi.org/simple, https://us-python.pkg.dev/colab-wheels/public/simple/\n",
            "Collecting git+https://github.com/andreinechaev/nvcc4jupyter.git\n",
            "  Cloning https://github.com/andreinechaev/nvcc4jupyter.git to /tmp/pip-req-build-bif2f5cr\n",
            "  Running command git clone -q https://github.com/andreinechaev/nvcc4jupyter.git /tmp/pip-req-build-bif2f5cr\n",
            "Building wheels for collected packages: NVCCPlugin\n",
            "  Building wheel for NVCCPlugin (setup.py) ... \u001b[?25l\u001b[?25hdone\n",
            "  Created wheel for NVCCPlugin: filename=NVCCPlugin-0.0.2-py3-none-any.whl size=4304 sha256=5b6010eb525187410665b7649f3eba14347c247b0354b6ac6a8ba83b74a88bba\n",
            "  Stored in directory: /tmp/pip-ephem-wheel-cache-q648g1b0/wheels/f3/08/cc/e2b5b0e1c92df07dbb50a6f024a68ce090f5e7b2316b41756d\n",
            "Successfully built NVCCPlugin\n",
            "Installing collected packages: NVCCPlugin\n",
            "Successfully installed NVCCPlugin-0.0.2\n"
          ]
        }
      ],
      "source": [
        "!git clone https://github.com/alessandrobessi/cuda-lab.git\n",
        "!pip install git+https://github.com/andreinechaev/nvcc4jupyter.git"
      ]
    },
    {
      "cell_type": "code",
      "source": [
        "!nvidia-smi\n",
        "!nvcc --version\n",
        "!nvprof --version"
      ],
      "metadata": {
        "colab": {
          "base_uri": "https://localhost:8080/"
        },
        "id": "LOQ-X9Eav-Yu",
        "outputId": "90c32d7b-cea3-46cc-ae2e-42df0ed0d514"
      },
      "execution_count": 5,
      "outputs": [
        {
          "output_type": "stream",
          "name": "stdout",
          "text": [
            "Mon Dec 12 09:53:29 2022       \n",
            "+-----------------------------------------------------------------------------+\n",
            "| NVIDIA-SMI 460.32.03    Driver Version: 460.32.03    CUDA Version: 11.2     |\n",
            "|-------------------------------+----------------------+----------------------+\n",
            "| GPU  Name        Persistence-M| Bus-Id        Disp.A | Volatile Uncorr. ECC |\n",
            "| Fan  Temp  Perf  Pwr:Usage/Cap|         Memory-Usage | GPU-Util  Compute M. |\n",
            "|                               |                      |               MIG M. |\n",
            "|===============================+======================+======================|\n",
            "|   0  Tesla T4            Off  | 00000000:00:04.0 Off |                    0 |\n",
            "| N/A   54C    P0    27W /  70W |      0MiB / 15109MiB |      0%      Default |\n",
            "|                               |                      |                  N/A |\n",
            "+-------------------------------+----------------------+----------------------+\n",
            "                                                                               \n",
            "+-----------------------------------------------------------------------------+\n",
            "| Processes:                                                                  |\n",
            "|  GPU   GI   CI        PID   Type   Process name                  GPU Memory |\n",
            "|        ID   ID                                                   Usage      |\n",
            "|=============================================================================|\n",
            "|  No running processes found                                                 |\n",
            "+-----------------------------------------------------------------------------+\n",
            "nvcc: NVIDIA (R) Cuda compiler driver\n",
            "Copyright (c) 2005-2021 NVIDIA Corporation\n",
            "Built on Sun_Feb_14_21:12:58_PST_2021\n",
            "Cuda compilation tools, release 11.2, V11.2.152\n",
            "Build cuda_11.2.r11.2/compiler.29618528_0\n",
            "nvprof: NVIDIA (R) Cuda command line profiler\n",
            "Copyright (c) 2012 - 2020 NVIDIA Corporation\n",
            "Release version 11.2.152 (21)\n"
          ]
        }
      ]
    },
    {
      "cell_type": "code",
      "source": [
        "%load_ext nvcc_plugin"
      ],
      "metadata": {
        "colab": {
          "base_uri": "https://localhost:8080/"
        },
        "id": "PuPKKEBhwkdx",
        "outputId": "e8566872-a213-4ded-bd1b-f07d510901aa"
      },
      "execution_count": 8,
      "outputs": [
        {
          "output_type": "stream",
          "name": "stdout",
          "text": [
            "created output directory at /content/src\n",
            "Out bin /content/result.out\n"
          ]
        }
      ]
    },
    {
      "cell_type": "code",
      "source": [
        "import os\n",
        "os.environ['PATH'] += ':/usr/local/cuda/bin'"
      ],
      "metadata": {
        "id": "UICuRuSs5yo2"
      },
      "execution_count": 12,
      "outputs": []
    },
    {
      "cell_type": "code",
      "source": [
        "!nvcc cuda-lab/add.cu -o add -Wno-deprecated-gpu-targets"
      ],
      "metadata": {
        "id": "zLweHymU52NQ"
      },
      "execution_count": 13,
      "outputs": []
    },
    {
      "cell_type": "code",
      "source": [
        "!nvprof ./add"
      ],
      "metadata": {
        "colab": {
          "base_uri": "https://localhost:8080/"
        },
        "id": "3JatKdOf54qV",
        "outputId": "e2c42e21-ed2c-46d2-8e69-2fc4f584ee44"
      },
      "execution_count": 14,
      "outputs": [
        {
          "output_type": "stream",
          "name": "stdout",
          "text": [
            "==341== NVPROF is profiling process 341, command: ./add\n",
            "Max error: 0.000000\n",
            "==341== Profiling application: ./add\n",
            "==341== Profiling result:\n",
            "            Type  Time(%)      Time     Calls       Avg       Min       Max  Name\n",
            " GPU activities:  100.00%  2.5406ms         1  2.5406ms  2.5406ms  2.5406ms  add(int, float*, float*)\n",
            "      API calls:   98.32%  278.17ms         2  139.08ms  61.182us  278.11ms  cudaMallocManaged\n",
            "                    0.91%  2.5628ms         1  2.5628ms  2.5628ms  2.5628ms  cudaDeviceSynchronize\n",
            "                    0.56%  1.5736ms         2  786.78us  321.01us  1.2525ms  cudaFree\n",
            "                    0.13%  355.90us         1  355.90us  355.90us  355.90us  cuDeviceTotalMem\n",
            "                    0.06%  156.50us       101  1.5490us     132ns  66.628us  cuDeviceGetAttribute\n",
            "                    0.02%  57.624us         1  57.624us  57.624us  57.624us  cudaLaunchKernel\n",
            "                    0.01%  32.379us         1  32.379us  32.379us  32.379us  cuDeviceGetName\n",
            "                    0.00%  14.132us         1  14.132us  14.132us  14.132us  cuDeviceGetPCIBusId\n",
            "                    0.00%  1.6670us         3     555ns     155ns  1.2250us  cuDeviceGetCount\n",
            "                    0.00%  1.3910us         2     695ns     298ns  1.0930us  cuDeviceGet\n",
            "                    0.00%     352ns         1     352ns     352ns     352ns  cuDeviceGetUuid\n",
            "\n",
            "==341== Unified Memory profiling result:\n",
            "Device \"Tesla T4 (0)\"\n",
            "   Count  Avg Size  Min Size  Max Size  Total Size  Total Time  Name\n",
            "     104  78.769KB  4.0000KB  968.00KB  8.000000MB  968.2720us  Host To Device\n",
            "      24  170.67KB  4.0000KB  0.9961MB  4.000000MB  363.2560us  Device To Host\n",
            "      11         -         -         -           -  2.472883ms  Gpu page fault groups\n",
            "Total CPU Page faults: 36\n"
          ]
        }
      ]
    },
    {
      "cell_type": "code",
      "source": [
        "!time ./add"
      ],
      "metadata": {
        "colab": {
          "base_uri": "https://localhost:8080/"
        },
        "id": "M1kDkJXo57Wp",
        "outputId": "b9cfb051-977f-467d-d1f1-d386acd18e53"
      },
      "execution_count": 15,
      "outputs": [
        {
          "output_type": "stream",
          "name": "stdout",
          "text": [
            "Max error: 0.000000\n",
            "\n",
            "real\t0m0.825s\n",
            "user\t0m0.029s\n",
            "sys\t0m0.732s\n"
          ]
        }
      ]
    },
    {
      "cell_type": "code",
      "source": [
        "!nsys profile -t nvtx,cuda --stats=true --force-overwrite true --wait=all -o my_report ./add\n"
      ],
      "metadata": {
        "colab": {
          "base_uri": "https://localhost:8080/"
        },
        "id": "eAWelAaf61RR",
        "outputId": "c585bfb0-6fad-44ec-924f-412e5cbce7da"
      },
      "execution_count": 16,
      "outputs": [
        {
          "output_type": "stream",
          "name": "stdout",
          "text": [
            "Warning: LBR backtrace method is not supported on this platform. DWARF backtrace method will be used.\n",
            "Collecting data...\n",
            "Max error: 0.000000\n",
            "\n",
            "The target application terminated with signal 11 (SIGSEGV)\n",
            "Processing events...\n",
            "Capturing symbol files...\n",
            "Saving temporary \"/tmp/nsys-report-7fe7-8320-d214-7c30.qdstrm\" file to disk...\n",
            "Creating final output files...\n",
            "\n",
            "Processing [==============================================================100%]\n",
            "Saved report file to \"/tmp/nsys-report-7fe7-8320-d214-7c30.qdrep\"\n",
            "Exporting 2967 events: [==================================================100%]\n",
            "\n",
            "Exported successfully to\n",
            "/tmp/nsys-report-7fe7-8320-d214-7c30.sqlite\n",
            "\n",
            "\n",
            "CUDA API Statistics:\n",
            "\n",
            " Time(%)  Total Time (ns)  Num Calls     Average      Minimum     Maximum            Name         \n",
            " -------  ---------------  ---------  -------------  ---------  -----------  ---------------------\n",
            "    98.7      237,456,709          2  118,728,354.5     55,765  237,400,944  cudaMallocManaged    \n",
            "     1.0        2,424,870          1    2,424,870.0  2,424,870    2,424,870  cudaDeviceSynchronize\n",
            "     0.3          617,506          2      308,753.0    305,834      311,672  cudaFree             \n",
            "     0.0           56,634          1       56,634.0     56,634       56,634  cudaLaunchKernel     \n",
            "\n",
            "\n",
            "\n",
            "CUDA Kernel Statistics:\n",
            "\n",
            " Time(%)  Total Time (ns)  Instances    Average     Minimum    Maximum             Name          \n",
            " -------  ---------------  ---------  -----------  ---------  ---------  ------------------------\n",
            "   100.0        2,402,870          1  2,402,870.0  2,402,870  2,402,870  add(int, float*, float*)\n",
            "\n",
            "\n",
            "\n",
            "CUDA Memory Operation Statistics (by time):\n",
            "\n",
            " Time(%)  Total Time (ns)  Operations  Average   Minimum  Maximum              Operation            \n",
            " -------  ---------------  ----------  --------  -------  -------  ---------------------------------\n",
            "    71.7          919,986          86  10,697.5    2,719   84,574  [CUDA Unified Memory memcpy HtoD]\n",
            "    28.3          362,861          24  15,119.2    2,015   81,087  [CUDA Unified Memory memcpy DtoH]\n",
            "\n",
            "\n",
            "\n",
            "CUDA Memory Operation Statistics (by size in KiB):\n",
            "\n",
            "   Total    Operations  Average  Minimum   Maximum               Operation            \n",
            " ---------  ----------  -------  -------  ---------  ---------------------------------\n",
            " 8,192.000          86   95.256    4.000    972.000  [CUDA Unified Memory memcpy HtoD]\n",
            " 4,096.000          24  170.667    4.000  1,020.000  [CUDA Unified Memory memcpy DtoH]\n",
            "\n",
            "Report file moved to \"/content/my_report.qdrep\"\n",
            "Report file moved to \"/content/my_report.sqlite\"\n"
          ]
        }
      ]
    },
    {
      "cell_type": "code",
      "source": [
        "%%cu\n",
        "#include <iostream>\n",
        "\tint\n",
        "\tmain()\n",
        "{\n",
        "\tstd::cout << \"Welcome To GeeksforGeeks\\n\";\n",
        "\treturn 0;\n",
        "}\n"
      ],
      "metadata": {
        "colab": {
          "base_uri": "https://localhost:8080/"
        },
        "id": "jAu7wX7IwsA-",
        "outputId": "c41ff6a1-08a6-47e8-9a72-4bd6d63958d5"
      },
      "execution_count": 9,
      "outputs": [
        {
          "output_type": "stream",
          "name": "stdout",
          "text": [
            "Welcome To GeeksforGeeks\n",
            "\n"
          ]
        }
      ]
    },
    {
      "cell_type": "code",
      "source": [
        "%%cu\n",
        "#include <cstdio>\n",
        "#include <iostream>\n",
        "\n",
        "\tusing namespace std;\n",
        "\n",
        "__global__ void maxi(int* a, int* b, int n)\n",
        "{\n",
        "\tint block = 256 * blockIdx.x;\n",
        "\tint max = 0;\n",
        "\n",
        "\tfor (int i = block; i < min(256 + block, n); i++) {\n",
        "\n",
        "\t\tif (max < a[i]) {\n",
        "\t\t\tmax = a[i];\n",
        "\t\t}\n",
        "\t}\n",
        "\tb[blockIdx.x] = max;\n",
        "}\n",
        "\n",
        "int main()\n",
        "{\n",
        "\n",
        "\tint n;\n",
        "\tn = 3 >> 2;\n",
        "\tint a[n];\n",
        "\n",
        "\tfor (int i = 0; i < n; i++) {\n",
        "\t\ta[i] = rand() % n;\n",
        "\t\tcout << a[i] << \"\\t\";\n",
        "\t}\n",
        "\n",
        "\tcudaEvent_t start, end;\n",
        "\tint *ad, *bd;\n",
        "\tint size = n * sizeof(int);\n",
        "\tcudaMalloc(&ad, size);\n",
        "\tcudaMemcpy(ad, a, size, cudaMemcpyHostToDevice);\n",
        "\tint grids = ceil(n * 1.0f / 256.0f);\n",
        "\tcudaMalloc(&bd, grids * sizeof(int));\n",
        "\n",
        "\tdim3 grid(grids, 1);\n",
        "\tdim3 block(1, 1);\n",
        "\n",
        "\tcudaEventCreate(&start);\n",
        "\tcudaEventCreate(&end);\n",
        "\tcudaEventRecord(start);\n",
        "\n",
        "\twhile (n > 1) {\n",
        "\t\tmaxi<<<grids, block>>>(ad, bd, n);\n",
        "\t\tn = ceil(n * 1.0f / 256.0f);\n",
        "\t\tcudaMemcpy(ad, bd, n * sizeof(int), cudaMemcpyDeviceToDevice);\n",
        "\t}\n",
        "\n",
        "\tcudaEventRecord(end);\n",
        "\tcudaEventSynchronize(end);\n",
        "\n",
        "\tfloat time = 0;\n",
        "\tcudaEventElapsedTime(&time, start, end);\n",
        "\n",
        "\tint ans[2];\n",
        "\tcudaMemcpy(ans, ad, 4, cudaMemcpyDeviceToHost);\n",
        "\n",
        "\tcout << \"The maximum element is : \" << ans[0] << endl;\n",
        "\n",
        "\tcout << \"The time required : \";\n",
        "\tcout << time << endl;\n",
        "}\n"
      ],
      "metadata": {
        "colab": {
          "base_uri": "https://localhost:8080/"
        },
        "id": "WQs0TR2Vwvf5",
        "outputId": "4fc92100-5e6e-4ba3-a8df-bbe052f86a06"
      },
      "execution_count": 10,
      "outputs": [
        {
          "output_type": "stream",
          "name": "stdout",
          "text": [
            "The maximum element is : 772171792\n",
            "The time required : 0.003008\n",
            "\n"
          ]
        }
      ]
    }
  ]
}