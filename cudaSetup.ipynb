{
  "nbformat": 4,
  "nbformat_minor": 0,
  "metadata": {
    "colab": {
      "provenance": [],
      "authorship_tag": "ABX9TyO87e7h036IgTzqAQ7FJTYx",
      "include_colab_link": true
    },
    "kernelspec": {
      "name": "python3",
      "display_name": "Python 3"
    },
    "language_info": {
      "name": "python"
    },
    "accelerator": "GPU",
    "gpuClass": "standard"
  },
  "cells": [
    {
      "cell_type": "markdown",
      "metadata": {
        "id": "view-in-github",
        "colab_type": "text"
      },
      "source": [
        "<a href=\"https://colab.research.google.com/github/yahui624/CompArchFinalProject/blob/main/cudaSetup.ipynb\" target=\"_parent\"><img src=\"https://colab.research.google.com/assets/colab-badge.svg\" alt=\"Open In Colab\"/></a>"
      ]
    },
    {
      "cell_type": "markdown",
      "source": [
        "Test CUDA Google Collab enviorment setup following [cuda-lab\n",
        "](https://github.com/alessandrobessi/cuda-lab)"
      ],
      "metadata": {
        "id": "SGCN4JVk7XRJ"
      }
    },
    {
      "cell_type": "code",
      "execution_count": null,
      "metadata": {
        "colab": {
          "base_uri": "https://localhost:8080/"
        },
        "id": "feEPxMOE4MMf",
        "outputId": "ce401aa4-346c-4193-d061-75af5d9de335"
      },
      "outputs": [
        {
          "output_type": "stream",
          "name": "stdout",
          "text": [
            "Cloning into 'cuda-lab'...\n",
            "remote: Enumerating objects: 56, done.\u001b[K\n",
            "remote: Total 56 (delta 0), reused 0 (delta 0), pack-reused 56\u001b[K\n",
            "Unpacking objects: 100% (56/56), done.\n"
          ]
        }
      ],
      "source": [
        "!git clone https://github.com/alessandrobessi/cuda-lab.git"
      ]
    },
    {
      "cell_type": "code",
      "source": [
        "!chmod 755 cuda-lab/INSTALL.sh"
      ],
      "metadata": {
        "id": "kY1QPeT14UkW"
      },
      "execution_count": null,
      "outputs": []
    },
    {
      "cell_type": "code",
      "source": [
        "!./cuda-lab/INSTALL.sh"
      ],
      "metadata": {
        "id": "Z2RU-aDD4Z7h"
      },
      "execution_count": null,
      "outputs": []
    },
    {
      "cell_type": "code",
      "source": [
        "import os\n",
        "os.environ['PATH'] += ':/usr/local/cuda/bin'"
      ],
      "metadata": {
        "id": "UICuRuSs5yo2"
      },
      "execution_count": null,
      "outputs": []
    },
    {
      "cell_type": "code",
      "source": [
        "!nvcc cuda-lab/add.cu -o add -Wno-deprecated-gpu-targets"
      ],
      "metadata": {
        "id": "zLweHymU52NQ"
      },
      "execution_count": null,
      "outputs": []
    },
    {
      "cell_type": "code",
      "source": [
        "!nvprof ./add"
      ],
      "metadata": {
        "colab": {
          "base_uri": "https://localhost:8080/"
        },
        "id": "3JatKdOf54qV",
        "outputId": "4b696b02-1f62-4d85-c073-d5db4fbbae2b"
      },
      "execution_count": null,
      "outputs": [
        {
          "output_type": "stream",
          "name": "stdout",
          "text": [
            "======== Warning: This version of nvprof doesn't support the underlying device, GPU profiling skipped.\n",
            "Max error: 0.000000\n",
            "======== Warning: No CUDA application was profiled, exiting\n"
          ]
        }
      ]
    },
    {
      "cell_type": "code",
      "source": [
        "!time ./add"
      ],
      "metadata": {
        "colab": {
          "base_uri": "https://localhost:8080/"
        },
        "id": "M1kDkJXo57Wp",
        "outputId": "8de12c78-1fad-4d23-ee62-41aee5f780a2"
      },
      "execution_count": null,
      "outputs": [
        {
          "output_type": "stream",
          "name": "stdout",
          "text": [
            "Max error: 0.000000\n",
            "\n",
            "real\t0m0.935s\n",
            "user\t0m0.033s\n",
            "sys\t0m0.833s\n"
          ]
        }
      ]
    },
    {
      "cell_type": "code",
      "source": [
        "!nvprof --version"
      ],
      "metadata": {
        "colab": {
          "base_uri": "https://localhost:8080/"
        },
        "id": "L7d0gSlA59ZU",
        "outputId": "ac6f9d86-4252-4c7f-e325-3b1d928f9556"
      },
      "execution_count": null,
      "outputs": [
        {
          "output_type": "stream",
          "name": "stdout",
          "text": [
            "nvprof: NVIDIA (R) Cuda command line profiler\n",
            "Copyright (c) 2012 - 2016 NVIDIA Corporation\n",
            "Release version 8.0.61 (21)\n"
          ]
        }
      ]
    },
    {
      "cell_type": "code",
      "source": [
        "!nvcc --version"
      ],
      "metadata": {
        "colab": {
          "base_uri": "https://localhost:8080/"
        },
        "id": "UhK1MjRg6pho",
        "outputId": "d6fdc2dc-e5a6-44e5-965f-368516c0a072"
      },
      "execution_count": null,
      "outputs": [
        {
          "output_type": "stream",
          "name": "stdout",
          "text": [
            "nvcc: NVIDIA (R) Cuda compiler driver\n",
            "Copyright (c) 2005-2016 NVIDIA Corporation\n",
            "Built on Tue_Jan_10_13:22:03_CST_2017\n",
            "Cuda compilation tools, release 8.0, V8.0.61\n"
          ]
        }
      ]
    },
    {
      "cell_type": "code",
      "source": [
        "!nsys profile -t nvtx,cuda --stats=true --force-overwrite true --wait=all -o my_report ./add\n"
      ],
      "metadata": {
        "colab": {
          "base_uri": "https://localhost:8080/"
        },
        "id": "eAWelAaf61RR",
        "outputId": "78eff106-7ad1-4f96-fa60-76712437b6af"
      },
      "execution_count": null,
      "outputs": [
        {
          "output_type": "stream",
          "name": "stdout",
          "text": [
            "Warning: LBR backtrace method is not supported on this platform. DWARF backtrace method will be used.\n",
            "Collecting data...\n",
            "Max error: 0.000000\n",
            "Processing events...\n",
            "Capturing symbol files...\n",
            "Saving temporary \"/tmp/nsys-report-aabf-7dee-a25f-6b49.qdstrm\" file to disk...\n",
            "Creating final output files...\n",
            "\n",
            "Processing [==============================================================100%]\n",
            "Saved report file to \"/tmp/nsys-report-aabf-7dee-a25f-6b49.qdrep\"\n",
            "Exporting 2780 events: [==================================================100%]\n",
            "\n",
            "Exported successfully to\n",
            "/tmp/nsys-report-aabf-7dee-a25f-6b49.sqlite\n",
            "\n",
            "\n",
            "CUDA API Statistics:\n",
            "\n",
            " Time(%)  Total Time (ns)  Num Calls     Average      Minimum     Maximum            Name         \n",
            " -------  ---------------  ---------  -------------  ---------  -----------  ---------------------\n",
            "    99.1      358,602,424          2  179,301,212.0     37,254  358,565,170  cudaMallocManaged    \n",
            "     0.7        2,556,563          1    2,556,563.0  2,556,563    2,556,563  cudaDeviceSynchronize\n",
            "     0.2          655,868          2      327,934.0    318,876      336,992  cudaFree             \n",
            "     0.0           62,020          1       62,020.0     62,020       62,020  cudaLaunch           \n",
            "\n",
            "\n",
            "\n",
            "CUDA Kernel Statistics:\n",
            "\n",
            " Time(%)  Total Time (ns)  Instances    Average     Minimum    Maximum             Name          \n",
            " -------  ---------------  ---------  -----------  ---------  ---------  ------------------------\n",
            "   100.0        2,546,722          1  2,546,722.0  2,546,722  2,546,722  add(int, float*, float*)\n",
            "\n",
            "\n",
            "\n",
            "CUDA Memory Operation Statistics (by time):\n",
            "\n",
            " Time(%)  Total Time (ns)  Operations  Average   Minimum  Maximum              Operation            \n",
            " -------  ---------------  ----------  --------  -------  -------  ---------------------------------\n",
            "    71.3          895,399          82  10,919.5    2,494   84,160  [CUDA Unified Memory memcpy HtoD]\n",
            "    28.7          360,276          24  15,011.5    1,951   81,472  [CUDA Unified Memory memcpy DtoH]\n",
            "\n",
            "\n",
            "\n",
            "CUDA Memory Operation Statistics (by size in KiB):\n",
            "\n",
            "   Total    Operations  Average  Minimum   Maximum               Operation            \n",
            " ---------  ----------  -------  -------  ---------  ---------------------------------\n",
            " 8,192.000          82   99.902    4.000    972.000  [CUDA Unified Memory memcpy HtoD]\n",
            " 4,096.000          24  170.667    4.000  1,020.000  [CUDA Unified Memory memcpy DtoH]\n",
            "\n",
            "Report file moved to \"/content/my_report.qdrep\"\n",
            "Report file moved to \"/content/my_report.sqlite\"\n"
          ]
        }
      ]
    }
  ]
}