{
  "cells": [
    {
      "cell_type": "markdown",
      "metadata": {
        "colab_type": "text",
        "id": "view-in-github"
      },
      "source": [
        "<a href=\"https://colab.research.google.com/github/yahui624/CompArchFinalProject/blob/main/graphBFS.ipynb\" target=\"_parent\"><img src=\"https://colab.research.google.com/assets/colab-badge.svg\" alt=\"Open In Colab\"/></a>"
      ]
    },
    {
      "cell_type": "code",
      "execution_count": 13,
      "metadata": {
        "colab": {
          "base_uri": "https://localhost:8080/"
        },
        "id": "1FMlISB7xbtm",
        "outputId": "45620df2-9408-40ef-a760-115aeca014d0"
      },
      "outputs": [
        {
          "name": "stdout",
          "output_type": "stream",
          "text": [
            "Mon Dec 12 10:10:59 2022       \n",
            "+-----------------------------------------------------------------------------+\n",
            "| NVIDIA-SMI 460.32.03    Driver Version: 460.32.03    CUDA Version: 11.2     |\n",
            "|-------------------------------+----------------------+----------------------+\n",
            "| GPU  Name        Persistence-M| Bus-Id        Disp.A | Volatile Uncorr. ECC |\n",
            "| Fan  Temp  Perf  Pwr:Usage/Cap|         Memory-Usage | GPU-Util  Compute M. |\n",
            "|                               |                      |               MIG M. |\n",
            "|===============================+======================+======================|\n",
            "|   0  Tesla T4            Off  | 00000000:00:04.0 Off |                    0 |\n",
            "| N/A   59C    P0    28W /  70W |      0MiB / 15109MiB |      0%      Default |\n",
            "|                               |                      |                  N/A |\n",
            "+-------------------------------+----------------------+----------------------+\n",
            "                                                                               \n",
            "+-----------------------------------------------------------------------------+\n",
            "| Processes:                                                                  |\n",
            "|  GPU   GI   CI        PID   Type   Process name                  GPU Memory |\n",
            "|        ID   ID                                                   Usage      |\n",
            "|=============================================================================|\n",
            "|  No running processes found                                                 |\n",
            "+-----------------------------------------------------------------------------+\n",
            "nvcc: NVIDIA (R) Cuda compiler driver\n",
            "Copyright (c) 2005-2021 NVIDIA Corporation\n",
            "Built on Sun_Feb_14_21:12:58_PST_2021\n",
            "Cuda compilation tools, release 11.2, V11.2.152\n",
            "Build cuda_11.2.r11.2/compiler.29618528_0\n",
            "nvprof: NVIDIA (R) Cuda command line profiler\n",
            "Copyright (c) 2012 - 2020 NVIDIA Corporation\n",
            "Release version 11.2.152 (21)\n"
          ]
        }
      ],
      "source": [
        "!nvidia-smi\n",
        "!nvcc --version\n",
        "!nvprof --version"
      ]
    },
    {
      "cell_type": "code",
      "execution_count": null,
      "metadata": {
        "id": "Ltk-k13Q06k7"
      },
      "outputs": [],
      "source": [
        "!apt update\n",
        "!apt install -y cmake\n",
        "!pip install dlib\n",
        "!pip install git+https://github.com/andreinechaev/nvcc4jupyter.git"
      ]
    },
    {
      "cell_type": "markdown",
      "metadata": {
        "id": "-nUX3NInyKS6"
      },
      "source": [
        "Gunrock CUDA GPU Graph BFS Analtiyics Benchmark\n",
        "** **\n",
        "\n",
        "paper: https://dl-acm-org.ezproxy.lib.vt.edu/doi/pdf/10.1145/2688500.2688538 \n",
        "\n",
        "code repo: https://github.com/gunrock/gunrock\n",
        "\n",
        "(need to update to #include <experimental/filesystem> to make)"
      ]
    },
    {
      "cell_type": "code",
      "execution_count": 63,
      "metadata": {
        "colab": {
          "base_uri": "https://localhost:8080/"
        },
        "id": "V7OXccYh2B-_",
        "outputId": "f2564618-f46a-4f10-c7cf-169c37e8d493"
      },
      "outputs": [
        {
          "name": "stdout",
          "output_type": "stream",
          "text": [
            "remote: Total 68574 (delta 5456), reused 9060 (delta 5389), pack-reused 59392\n",
            "Receiving objects: 100% (68574/68574), 74.71 MiB | 28.29 MiB/s, done.\n",
            "Resolving deltas: 100% (56775/56775), done.\n",
            "/content/gunrock\n",
            "/content/gunrock/build\n"
          ]
        }
      ],
      "source": [
        "!git clone --recursive https://github.com/gunrock/gunrock\n",
        "%cd gunrock \n",
        "%mkdir build  \n",
        "%cd build"
      ]
    },
    {
      "cell_type": "code",
      "execution_count": null,
      "metadata": {
        "id": "PCLNv4Xc2PIR"
      },
      "outputs": [],
      "source": [
        "!cmake .. "
      ]
    },
    {
      "cell_type": "code",
      "execution_count": null,
      "metadata": {
        "id": "Nc9VQwjX5OYj"
      },
      "outputs": [],
      "source": [
        "!make bfs # or for all algorithms, use: make -j$(nproc)"
      ]
    },
    {
      "cell_type": "code",
      "execution_count": 69,
      "metadata": {
        "colab": {
          "base_uri": "https://localhost:8080/"
        },
        "id": "A33xs6kBx5fv",
        "outputId": "b354324f-1def-4bc2-9afb-f1f04e1b05b8"
      },
      "outputs": [
        {
          "name": "stdout",
          "output_type": "stream",
          "text": [
            "GPU distances[:39] = 0 2 2 2 2 2 1 1 2 2 1 1 1 2 2 2 2 2 2 2 2 1 1 2 2 2 2 2 2 2 2 2 2 1 1 2 1 2 1 \n",
            "CPU Distances[:39] = 0 2 2 2 2 2 1 1 2 2 1 1 1 2 2 2 2 2 2 2 2 1 1 2 2 2 2 2 2 2 2 2 2 1 1 2 1 2 1 \n",
            "GPU Elapsed Time : 0.2328 (ms)\n",
            "CPU Elapsed Time : 0.003 (ms)\n",
            "Number of errors : 0\n"
          ]
        }
      ],
      "source": [
        "!bin/bfs ../datasets/chesapeake/chesapeake.mtx"
      ]
    },
    {
      "cell_type": "code",
      "execution_count": null,
      "metadata": {
        "id": "82JCC_TCz9Du"
      },
      "outputs": [],
      "source": []
    }
  ],
  "metadata": {
    "accelerator": "GPU",
    "colab": {
      "authorship_tag": "ABX9TyMKRIt42BtoNI9nOmMI6LVn",
      "include_colab_link": true,
      "provenance": []
    },
    "gpuClass": "standard",
    "kernelspec": {
      "display_name": "Python 3",
      "name": "python3"
    },
    "language_info": {
      "name": "python"
    }
  },
  "nbformat": 4,
  "nbformat_minor": 0
}
